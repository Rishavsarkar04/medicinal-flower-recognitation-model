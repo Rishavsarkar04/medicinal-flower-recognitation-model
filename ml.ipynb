{
 "cells": [
  {
   "cell_type": "code",
   "execution_count": 4,
   "metadata": {},
   "outputs": [],
   "source": [
    "# importing libraries\n",
    "import numpy as np\n",
    "import tensorflow as tf\n",
    "from keras_preprocessing.image import ImageDataGenerator "
   ]
  },
  {
   "cell_type": "code",
   "execution_count": 5,
   "metadata": {},
   "outputs": [
    {
     "name": "stdout",
     "output_type": "stream",
     "text": [
      "Found 1885 images belonging to 7 classes.\n"
     ]
    }
   ],
   "source": [
    "# training image processing\n",
    "train_datagen = ImageDataGenerator(rescale=1./255,shear_range=0.2,zoom_range=0.2,horizontal_flip=True)\n",
    "\n",
    "training_set = train_datagen.flow_from_directory('flower recognation/training set',target_size=(64,64),batch_size=32,class_mode='categorical')"
   ]
  },
  {
   "cell_type": "code",
   "execution_count": 6,
   "metadata": {},
   "outputs": [
    {
     "name": "stdout",
     "output_type": "stream",
     "text": [
      "Found 543 images belonging to 7 classes.\n"
     ]
    }
   ],
   "source": [
    "# testing image processing\n",
    "text_datagen = ImageDataGenerator(rescale=1./255)\n",
    "\n",
    "testing_set = train_datagen.flow_from_directory('flower recognation/test set',target_size=(64,64),batch_size=32,class_mode='categorical')"
   ]
  },
  {
   "cell_type": "code",
   "execution_count": 7,
   "metadata": {},
   "outputs": [],
   "source": [
    "# building model\n",
    "model = tf.keras.models.Sequential()"
   ]
  },
  {
   "cell_type": "code",
   "execution_count": 8,
   "metadata": {},
   "outputs": [],
   "source": [
    "# building convulation layer\n",
    "model.add(tf.keras.layers.Conv2D(filters=64,kernel_size=3,activation='relu',input_shape=[64,64,3]))\n",
    "model.add(tf.keras.layers.MaxPool2D(pool_size=2,strides=2))"
   ]
  },
  {
   "cell_type": "code",
   "execution_count": 9,
   "metadata": {},
   "outputs": [],
   "source": [
    "model.add(tf.keras.layers.Conv2D(filters=64,kernel_size=3,activation='relu'))\n",
    "model.add(tf.keras.layers.MaxPool2D(pool_size=2,strides=2))"
   ]
  },
  {
   "cell_type": "code",
   "execution_count": 10,
   "metadata": {},
   "outputs": [],
   "source": [
    "# adding dropout \n",
    "model.add(tf.keras.layers.Dropout(0.5))"
   ]
  },
  {
   "cell_type": "code",
   "execution_count": 11,
   "metadata": {},
   "outputs": [],
   "source": [
    "# flattend layer\n",
    "model.add(tf.keras.layers.Flatten())"
   ]
  },
  {
   "cell_type": "code",
   "execution_count": 12,
   "metadata": {},
   "outputs": [],
   "source": [
    "# adding hidden layer or dense layer\n",
    "model.add(tf.keras.layers.Dense(units=128, activation='relu'))"
   ]
  },
  {
   "cell_type": "code",
   "execution_count": 13,
   "metadata": {},
   "outputs": [],
   "source": [
    "# adding output layer\n",
    "model.add(tf.keras.layers.Dense(units=7, activation='softmax'))"
   ]
  },
  {
   "cell_type": "code",
   "execution_count": 14,
   "metadata": {},
   "outputs": [],
   "source": [
    "model.compile(optimizer='rmsprop',loss='categorical_crossentropy',metrics='accuracy')"
   ]
  },
  {
   "cell_type": "code",
   "execution_count": 66,
   "metadata": {},
   "outputs": [
    {
     "name": "stdout",
     "output_type": "stream",
     "text": [
      "Epoch 1/30\n",
      "59/59 [==============================] - 20s 345ms/step - loss: 0.0911 - accuracy: 0.9719 - val_loss: 1.0349 - val_accuracy: 0.8214\n",
      "Epoch 2/30\n",
      "59/59 [==============================] - 22s 369ms/step - loss: 0.0760 - accuracy: 0.9782 - val_loss: 1.1997 - val_accuracy: 0.8029\n",
      "Epoch 3/30\n",
      "59/59 [==============================] - 21s 348ms/step - loss: 0.0780 - accuracy: 0.9761 - val_loss: 1.5222 - val_accuracy: 0.7901\n",
      "Epoch 4/30\n",
      "59/59 [==============================] - 20s 343ms/step - loss: 0.0692 - accuracy: 0.9820 - val_loss: 1.1935 - val_accuracy: 0.8066\n",
      "Epoch 5/30\n",
      "59/59 [==============================] - 20s 344ms/step - loss: 0.1169 - accuracy: 0.9714 - val_loss: 0.9707 - val_accuracy: 0.8398\n",
      "Epoch 6/30\n",
      "59/59 [==============================] - 21s 360ms/step - loss: 0.0807 - accuracy: 0.9777 - val_loss: 1.1505 - val_accuracy: 0.8343\n"
     ]
    }
   ],
   "source": [
    "callback = tf.keras.callbacks.EarlyStopping(monitor='loss', patience=2)\n",
    "a = model.fit(x=training_set, validation_data=testing_set,epochs=30,callbacks=[callback])"
   ]
  },
  {
   "cell_type": "code",
   "execution_count": 67,
   "metadata": {},
   "outputs": [
    {
     "data": {
      "text/plain": [
       "0.8342541456222534"
      ]
     },
     "execution_count": 67,
     "metadata": {},
     "output_type": "execute_result"
    }
   ],
   "source": [
    "# getting accuracy \n",
    "a.history['val_accuracy'][-1]"
   ]
  },
  {
   "cell_type": "code",
   "execution_count": 70,
   "metadata": {},
   "outputs": [],
   "source": [
    "# saving the model\n",
    "model.save('medicinal flower recognitation.h5')"
   ]
  },
  {
   "cell_type": "code",
   "execution_count": 69,
   "metadata": {},
   "outputs": [
    {
     "name": "stdout",
     "output_type": "stream",
     "text": [
      "1/1 [==============================] - 0s 101ms/step\n",
      "the predicted flower is Roses\n"
     ]
    }
   ],
   "source": [
    "# predicting image \n",
    "from keras_preprocessing import image\n",
    "import numpy as np\n",
    "\n",
    "prediction_img= image.load_img('prediction/rose.jpg', target_size=(64,64))\n",
    "prediction_img = image.img_to_array(prediction_img)\n",
    "prediction_img = np.expand_dims(prediction_img,axis=0)\n",
    "\n",
    "# predicting image\n",
    "result = model.predict(prediction_img)\n",
    "\n",
    "\n",
    "# getting the name of the flower\n",
    "ind = result.argmax()\n",
    "\n",
    "name = ''\n",
    "for keys,val in training_set.class_indices.items():\n",
    "    if ind == val:\n",
    "        name=keys\n",
    "        break\n",
    "\n",
    "print(f'the predicted flower is {name}')\n"
   ]
  }
 ],
 "metadata": {
  "kernelspec": {
   "display_name": "Python 3.9.2 64-bit",
   "language": "python",
   "name": "python3"
  },
  "language_info": {
   "codemirror_mode": {
    "name": "ipython",
    "version": 3
   },
   "file_extension": ".py",
   "mimetype": "text/x-python",
   "name": "python",
   "nbconvert_exporter": "python",
   "pygments_lexer": "ipython3",
   "version": "3.9.2"
  },
  "orig_nbformat": 4,
  "vscode": {
   "interpreter": {
    "hash": "cf92aa13fedf815d5c8dd192b8d835913fde3e8bc926b2a0ad6cc74ef2ba3ca2"
   }
  }
 },
 "nbformat": 4,
 "nbformat_minor": 2
}
